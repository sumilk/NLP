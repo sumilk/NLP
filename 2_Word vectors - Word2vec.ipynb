{
 "cells": [
  {
   "cell_type": "code",
   "execution_count": 1,
   "id": "35add486",
   "metadata": {},
   "outputs": [],
   "source": [
    "import gensim"
   ]
  },
  {
   "cell_type": "code",
   "execution_count": 2,
   "id": "3cb067e5",
   "metadata": {},
   "outputs": [
    {
     "data": {
      "text/plain": [
       "'4.2.0'"
      ]
     },
     "execution_count": 2,
     "metadata": {},
     "output_type": "execute_result"
    }
   ],
   "source": [
    "gensim.__version__"
   ]
  },
  {
   "cell_type": "code",
   "execution_count": 3,
   "id": "95d096b4",
   "metadata": {},
   "outputs": [],
   "source": [
    "from gensim.models import word2vec\n",
    "from gensim.models.word2vec import Word2Vec\n",
    "import matplotlib.pyplot as plt\n",
    "import pandas as pd\n",
    "import numpy as np\n",
    "\n",
    "import spacy\n",
    "import string"
   ]
  },
  {
   "cell_type": "code",
   "execution_count": 4,
   "id": "2292ddd6",
   "metadata": {},
   "outputs": [],
   "source": [
    "np.random.seed(42)"
   ]
  },
  {
   "cell_type": "code",
   "execution_count": 5,
   "id": "b7c193b2",
   "metadata": {},
   "outputs": [],
   "source": [
    "import gensim.downloader as api"
   ]
  },
  {
   "cell_type": "code",
   "execution_count": 6,
   "id": "e196ed31",
   "metadata": {},
   "outputs": [
    {
     "data": {
      "text/plain": [
       "['fasttext-wiki-news-subwords-300',\n",
       " 'conceptnet-numberbatch-17-06-300',\n",
       " 'word2vec-ruscorpora-300',\n",
       " 'word2vec-google-news-300',\n",
       " 'glove-wiki-gigaword-50',\n",
       " 'glove-wiki-gigaword-100',\n",
       " 'glove-wiki-gigaword-200',\n",
       " 'glove-wiki-gigaword-300',\n",
       " 'glove-twitter-25',\n",
       " 'glove-twitter-50',\n",
       " 'glove-twitter-100',\n",
       " 'glove-twitter-200',\n",
       " '__testing_word2vec-matrix-synopsis']"
      ]
     },
     "execution_count": 6,
     "metadata": {},
     "output_type": "execute_result"
    }
   ],
   "source": [
    "list(api.info()['models'].keys())"
   ]
  },
  {
   "cell_type": "code",
   "execution_count": 11,
   "id": "d045e37b",
   "metadata": {},
   "outputs": [
    {
     "name": "stdout",
     "output_type": "stream",
     "text": [
      "[===============================-------------------] 62.6% 124.8/199.5MB downloaded"
     ]
    },
    {
     "name": "stderr",
     "output_type": "stream",
     "text": [
      "IOPub message rate exceeded.\n",
      "The notebook server will temporarily stop sending output\n",
      "to the client in order to avoid crashing it.\n",
      "To change this limit, set the config variable\n",
      "`--NotebookApp.iopub_msg_rate_limit`.\n",
      "\n",
      "Current values:\n",
      "NotebookApp.iopub_msg_rate_limit=1000.0 (msgs/sec)\n",
      "NotebookApp.rate_limit_window=3.0 (secs)\n",
      "\n"
     ]
    },
    {
     "name": "stdout",
     "output_type": "stream",
     "text": [
      "[========================================----------] 81.1% 161.9/199.5MB downloaded"
     ]
    },
    {
     "name": "stderr",
     "output_type": "stream",
     "text": [
      "IOPub message rate exceeded.\n",
      "The notebook server will temporarily stop sending output\n",
      "to the client in order to avoid crashing it.\n",
      "To change this limit, set the config variable\n",
      "`--NotebookApp.iopub_msg_rate_limit`.\n",
      "\n",
      "Current values:\n",
      "NotebookApp.iopub_msg_rate_limit=1000.0 (msgs/sec)\n",
      "NotebookApp.rate_limit_window=3.0 (secs)\n",
      "\n"
     ]
    },
    {
     "name": "stdout",
     "output_type": "stream",
     "text": [
      "[================================================--] 96.1% 191.8/199.5MB downloaded"
     ]
    },
    {
     "name": "stderr",
     "output_type": "stream",
     "text": [
      "IOPub message rate exceeded.\n",
      "The notebook server will temporarily stop sending output\n",
      "to the client in order to avoid crashing it.\n",
      "To change this limit, set the config variable\n",
      "`--NotebookApp.iopub_msg_rate_limit`.\n",
      "\n",
      "Current values:\n",
      "NotebookApp.iopub_msg_rate_limit=1000.0 (msgs/sec)\n",
      "NotebookApp.rate_limit_window=3.0 (secs)\n",
      "\n"
     ]
    },
    {
     "name": "stdout",
     "output_type": "stream",
     "text": [
      "[==================================================] 100.0% 199.5/199.5MB downloaded\n"
     ]
    }
   ],
   "source": [
    "wv_glove_twitter_50 = api.load('glove-twitter-50')"
   ]
  },
  {
   "cell_type": "code",
   "execution_count": 13,
   "id": "8a2166e4",
   "metadata": {},
   "outputs": [],
   "source": [
    "wv_glove_twitter_50.save('../data/vectors/wv_glove_twitter_50.kv')"
   ]
  },
  {
   "cell_type": "code",
   "execution_count": 15,
   "id": "7bc99b8d",
   "metadata": {},
   "outputs": [
    {
     "data": {
      "text/plain": [
       "gensim.models.keyedvectors.KeyedVectors"
      ]
     },
     "execution_count": 15,
     "metadata": {},
     "output_type": "execute_result"
    }
   ],
   "source": [
    "type(wv_glove_twitter_50)"
   ]
  },
  {
   "cell_type": "code",
   "execution_count": 16,
   "id": "ac4d243f",
   "metadata": {},
   "outputs": [
    {
     "data": {
      "text/plain": [
       "array([ 5.1418e-01, -1.9196e-01, -7.9963e-01,  9.1339e-01, -5.7061e-01,\n",
       "        7.1746e-01, -5.8979e-01, -5.1530e-01,  1.3453e+00, -2.0792e-01,\n",
       "        4.4555e-01,  2.4981e-01, -3.2020e+00,  3.5736e-01, -2.3593e-02,\n",
       "       -3.1158e-02,  3.7782e-01,  6.4447e-01,  1.2056e+00, -1.0553e-01,\n",
       "       -8.9697e-01, -7.9754e-01,  2.0239e-01, -1.0664e+00, -4.7167e-01,\n",
       "       -2.5953e-01,  1.1328e-01, -3.8142e-01,  2.0366e-03, -5.0261e-01,\n",
       "       -2.5197e-01, -8.4033e-02, -1.0015e+00, -8.6835e-01,  6.6201e-01,\n",
       "        2.6496e-01,  2.2570e-01, -3.3847e-01, -3.4739e-01,  6.2199e-01,\n",
       "       -1.3491e+00, -1.7497e-01, -1.1490e+00,  1.5144e-01,  1.1255e+00,\n",
       "       -6.2668e-01, -3.4274e-01, -3.4938e-01, -1.0806e+00,  6.0174e-01],\n",
       "      dtype=float32)"
      ]
     },
     "execution_count": 16,
     "metadata": {},
     "output_type": "execute_result"
    }
   ],
   "source": [
    "wv_glove_twitter_50['apple']"
   ]
  },
  {
   "cell_type": "code",
   "execution_count": 17,
   "id": "e7acfc88",
   "metadata": {},
   "outputs": [
    {
     "name": "stdout",
     "output_type": "stream",
     "text": [
      "[=====---------------------------------------------] 11.9% 198.5/1662.8MB downloaded"
     ]
    },
    {
     "name": "stderr",
     "output_type": "stream",
     "text": [
      "IOPub message rate exceeded.\n",
      "The notebook server will temporarily stop sending output\n",
      "to the client in order to avoid crashing it.\n",
      "To change this limit, set the config variable\n",
      "`--NotebookApp.iopub_msg_rate_limit`.\n",
      "\n",
      "Current values:\n",
      "NotebookApp.iopub_msg_rate_limit=1000.0 (msgs/sec)\n",
      "NotebookApp.rate_limit_window=3.0 (secs)\n",
      "\n"
     ]
    },
    {
     "name": "stdout",
     "output_type": "stream",
     "text": [
      "[=======-------------------------------------------] 14.0% 233.5/1662.8MB downloaded"
     ]
    },
    {
     "name": "stderr",
     "output_type": "stream",
     "text": [
      "IOPub message rate exceeded.\n",
      "The notebook server will temporarily stop sending output\n",
      "to the client in order to avoid crashing it.\n",
      "To change this limit, set the config variable\n",
      "`--NotebookApp.iopub_msg_rate_limit`.\n",
      "\n",
      "Current values:\n",
      "NotebookApp.iopub_msg_rate_limit=1000.0 (msgs/sec)\n",
      "NotebookApp.rate_limit_window=3.0 (secs)\n",
      "\n"
     ]
    },
    {
     "name": "stdout",
     "output_type": "stream",
     "text": [
      "[========------------------------------------------] 16.6% 275.6/1662.8MB downloaded"
     ]
    },
    {
     "name": "stderr",
     "output_type": "stream",
     "text": [
      "IOPub message rate exceeded.\n",
      "The notebook server will temporarily stop sending output\n",
      "to the client in order to avoid crashing it.\n",
      "To change this limit, set the config variable\n",
      "`--NotebookApp.iopub_msg_rate_limit`.\n",
      "\n",
      "Current values:\n",
      "NotebookApp.iopub_msg_rate_limit=1000.0 (msgs/sec)\n",
      "NotebookApp.rate_limit_window=3.0 (secs)\n",
      "\n"
     ]
    },
    {
     "name": "stdout",
     "output_type": "stream",
     "text": [
      "[=========-----------------------------------------] 18.7% 311.2/1662.8MB downloaded"
     ]
    },
    {
     "name": "stderr",
     "output_type": "stream",
     "text": [
      "IOPub message rate exceeded.\n",
      "The notebook server will temporarily stop sending output\n",
      "to the client in order to avoid crashing it.\n",
      "To change this limit, set the config variable\n",
      "`--NotebookApp.iopub_msg_rate_limit`.\n",
      "\n",
      "Current values:\n",
      "NotebookApp.iopub_msg_rate_limit=1000.0 (msgs/sec)\n",
      "NotebookApp.rate_limit_window=3.0 (secs)\n",
      "\n"
     ]
    },
    {
     "name": "stdout",
     "output_type": "stream",
     "text": [
      "[==========----------------------------------------] 21.5% 357.4/1662.8MB downloaded"
     ]
    },
    {
     "name": "stderr",
     "output_type": "stream",
     "text": [
      "IOPub message rate exceeded.\n",
      "The notebook server will temporarily stop sending output\n",
      "to the client in order to avoid crashing it.\n",
      "To change this limit, set the config variable\n",
      "`--NotebookApp.iopub_msg_rate_limit`.\n",
      "\n",
      "Current values:\n",
      "NotebookApp.iopub_msg_rate_limit=1000.0 (msgs/sec)\n",
      "NotebookApp.rate_limit_window=3.0 (secs)\n",
      "\n"
     ]
    },
    {
     "name": "stdout",
     "output_type": "stream",
     "text": [
      "[============--------------------------------------] 24.8% 412.0/1662.8MB downloaded"
     ]
    },
    {
     "name": "stderr",
     "output_type": "stream",
     "text": [
      "IOPub message rate exceeded.\n",
      "The notebook server will temporarily stop sending output\n",
      "to the client in order to avoid crashing it.\n",
      "To change this limit, set the config variable\n",
      "`--NotebookApp.iopub_msg_rate_limit`.\n",
      "\n",
      "Current values:\n",
      "NotebookApp.iopub_msg_rate_limit=1000.0 (msgs/sec)\n",
      "NotebookApp.rate_limit_window=3.0 (secs)\n",
      "\n"
     ]
    },
    {
     "name": "stdout",
     "output_type": "stream",
     "text": [
      "[=============-------------------------------------] 27.3% 453.4/1662.8MB downloaded"
     ]
    },
    {
     "name": "stderr",
     "output_type": "stream",
     "text": [
      "IOPub message rate exceeded.\n",
      "The notebook server will temporarily stop sending output\n",
      "to the client in order to avoid crashing it.\n",
      "To change this limit, set the config variable\n",
      "`--NotebookApp.iopub_msg_rate_limit`.\n",
      "\n",
      "Current values:\n",
      "NotebookApp.iopub_msg_rate_limit=1000.0 (msgs/sec)\n",
      "NotebookApp.rate_limit_window=3.0 (secs)\n",
      "\n"
     ]
    },
    {
     "name": "stdout",
     "output_type": "stream",
     "text": [
      "[==============------------------------------------] 29.7% 493.2/1662.8MB downloaded"
     ]
    },
    {
     "name": "stderr",
     "output_type": "stream",
     "text": [
      "IOPub message rate exceeded.\n",
      "The notebook server will temporarily stop sending output\n",
      "to the client in order to avoid crashing it.\n",
      "To change this limit, set the config variable\n",
      "`--NotebookApp.iopub_msg_rate_limit`.\n",
      "\n",
      "Current values:\n",
      "NotebookApp.iopub_msg_rate_limit=1000.0 (msgs/sec)\n",
      "NotebookApp.rate_limit_window=3.0 (secs)\n",
      "\n"
     ]
    },
    {
     "name": "stdout",
     "output_type": "stream",
     "text": [
      "[================----------------------------------] 32.3% 537.6/1662.8MB downloaded"
     ]
    },
    {
     "name": "stderr",
     "output_type": "stream",
     "text": [
      "IOPub message rate exceeded.\n",
      "The notebook server will temporarily stop sending output\n",
      "to the client in order to avoid crashing it.\n",
      "To change this limit, set the config variable\n",
      "`--NotebookApp.iopub_msg_rate_limit`.\n",
      "\n",
      "Current values:\n",
      "NotebookApp.iopub_msg_rate_limit=1000.0 (msgs/sec)\n",
      "NotebookApp.rate_limit_window=3.0 (secs)\n",
      "\n"
     ]
    },
    {
     "name": "stdout",
     "output_type": "stream",
     "text": [
      "[=================================================-] 98.1% 1631.2/1662.8MB downloaded"
     ]
    },
    {
     "name": "stderr",
     "output_type": "stream",
     "text": [
      "IOPub message rate exceeded.\n",
      "The notebook server will temporarily stop sending output\n",
      "to the client in order to avoid crashing it.\n",
      "To change this limit, set the config variable\n",
      "`--NotebookApp.iopub_msg_rate_limit`.\n",
      "\n",
      "Current values:\n",
      "NotebookApp.iopub_msg_rate_limit=1000.0 (msgs/sec)\n",
      "NotebookApp.rate_limit_window=3.0 (secs)\n",
      "\n"
     ]
    },
    {
     "name": "stdout",
     "output_type": "stream",
     "text": [
      "[=================================================-] 99.3% 1651.8/1662.8MB downloaded\n"
     ]
    }
   ],
   "source": [
    "wv_google_news_300 = api.load('word2vec-google-news-300')"
   ]
  },
  {
   "cell_type": "code",
   "execution_count": 18,
   "id": "61c0a383",
   "metadata": {},
   "outputs": [],
   "source": [
    "wv_google_news_300.save('../data/vectors/wv_google_news_300.kv')"
   ]
  },
  {
   "cell_type": "code",
   "execution_count": 14,
   "id": "9260dca7",
   "metadata": {},
   "outputs": [
    {
     "data": {
      "text/plain": [
       "array([-0.06445312, -0.16015625, -0.01208496,  0.13476562, -0.22949219,\n",
       "        0.16210938,  0.3046875 , -0.1796875 , -0.12109375,  0.25390625,\n",
       "       -0.01428223, -0.06396484, -0.08056641, -0.05688477, -0.19628906,\n",
       "        0.2890625 , -0.05151367,  0.14257812, -0.10498047, -0.04736328,\n",
       "       -0.34765625,  0.35742188,  0.265625  ,  0.00188446, -0.01586914,\n",
       "        0.00195312, -0.35546875,  0.22167969,  0.05761719,  0.15917969,\n",
       "        0.08691406, -0.0267334 , -0.04785156,  0.23925781, -0.05981445,\n",
       "        0.0378418 ,  0.17382812, -0.41796875,  0.2890625 ,  0.32617188,\n",
       "        0.02429199, -0.01647949, -0.06494141, -0.08886719,  0.07666016,\n",
       "       -0.15136719,  0.05249023, -0.04199219, -0.05419922,  0.00108337,\n",
       "       -0.20117188,  0.12304688,  0.09228516,  0.10449219, -0.00408936,\n",
       "       -0.04199219,  0.01409912, -0.02111816, -0.13476562, -0.24316406,\n",
       "        0.16015625, -0.06689453, -0.08984375, -0.07177734, -0.00595093,\n",
       "       -0.00482178, -0.00089264, -0.30664062, -0.0625    ,  0.07958984,\n",
       "       -0.00909424, -0.04492188,  0.09960938, -0.33398438, -0.3984375 ,\n",
       "        0.05541992, -0.06689453, -0.04467773,  0.11767578, -0.13964844,\n",
       "       -0.26367188,  0.17480469, -0.17382812, -0.40625   , -0.06738281,\n",
       "       -0.07617188,  0.09423828,  0.20996094, -0.16308594, -0.08691406,\n",
       "       -0.0534668 , -0.10351562, -0.07617188, -0.11083984, -0.03515625,\n",
       "       -0.14941406,  0.0378418 ,  0.38671875,  0.14160156, -0.2890625 ,\n",
       "       -0.16894531, -0.140625  , -0.04174805,  0.22753906,  0.24023438,\n",
       "       -0.01599121, -0.06787109,  0.21875   , -0.42382812, -0.5625    ,\n",
       "       -0.49414062, -0.3359375 ,  0.13378906,  0.01141357,  0.13671875,\n",
       "        0.0324707 ,  0.06835938, -0.27539062, -0.15917969,  0.00121307,\n",
       "        0.01208496, -0.0039978 ,  0.00442505, -0.04541016,  0.08642578,\n",
       "        0.09960938, -0.04296875, -0.11328125,  0.13867188,  0.41796875,\n",
       "       -0.28320312, -0.07373047, -0.11425781,  0.08691406, -0.02148438,\n",
       "        0.328125  , -0.07373047, -0.01348877,  0.17773438, -0.02624512,\n",
       "        0.13378906, -0.11132812, -0.12792969, -0.12792969,  0.18945312,\n",
       "       -0.13867188,  0.29882812, -0.07714844, -0.37695312, -0.10351562,\n",
       "        0.16992188, -0.10742188, -0.29882812,  0.00866699, -0.27734375,\n",
       "       -0.20996094, -0.1796875 , -0.19628906, -0.22167969,  0.08886719,\n",
       "       -0.27734375, -0.13964844,  0.15917969,  0.03637695,  0.03320312,\n",
       "       -0.08105469,  0.25390625, -0.08691406, -0.21289062, -0.18945312,\n",
       "       -0.22363281,  0.06542969, -0.16601562,  0.08837891, -0.359375  ,\n",
       "       -0.09863281,  0.35546875, -0.00741577,  0.19042969,  0.16992188,\n",
       "       -0.06005859, -0.20605469,  0.08105469,  0.12988281, -0.01135254,\n",
       "        0.33203125, -0.08691406,  0.27539062, -0.03271484,  0.12011719,\n",
       "       -0.0625    ,  0.1953125 , -0.10986328, -0.11767578,  0.20996094,\n",
       "        0.19921875,  0.02954102, -0.16015625,  0.00276184, -0.01367188,\n",
       "        0.03442383, -0.19335938,  0.00352478, -0.06542969, -0.05566406,\n",
       "        0.09423828,  0.29296875,  0.04052734, -0.09326172, -0.10107422,\n",
       "       -0.27539062,  0.04394531, -0.07275391,  0.13867188,  0.02380371,\n",
       "        0.13085938,  0.00236511, -0.2265625 ,  0.34765625,  0.13574219,\n",
       "        0.05224609,  0.18164062,  0.0402832 ,  0.23730469, -0.16992188,\n",
       "        0.10058594,  0.03833008,  0.10839844, -0.05615234, -0.00946045,\n",
       "        0.14550781, -0.30078125, -0.32226562,  0.18847656, -0.40234375,\n",
       "       -0.3125    , -0.08007812, -0.26757812,  0.16699219,  0.07324219,\n",
       "        0.06347656,  0.06591797,  0.17285156, -0.17773438,  0.00276184,\n",
       "       -0.05761719, -0.2265625 , -0.19628906,  0.09667969,  0.13769531,\n",
       "       -0.49414062, -0.27929688,  0.12304688, -0.30078125,  0.01293945,\n",
       "       -0.1875    , -0.20898438, -0.1796875 , -0.16015625, -0.03295898,\n",
       "        0.00976562,  0.25390625, -0.25195312,  0.00210571,  0.04296875,\n",
       "        0.01184082, -0.20605469,  0.24804688, -0.203125  , -0.17773438,\n",
       "        0.07275391,  0.04541016,  0.21679688, -0.2109375 ,  0.14550781,\n",
       "       -0.16210938,  0.20410156, -0.19628906, -0.35742188,  0.35742188,\n",
       "       -0.11962891,  0.35742188,  0.10351562,  0.07080078, -0.24707031,\n",
       "       -0.10449219, -0.19238281,  0.1484375 ,  0.00057983,  0.296875  ,\n",
       "       -0.12695312, -0.03979492,  0.13183594, -0.16601562,  0.125     ,\n",
       "        0.05126953, -0.14941406,  0.13671875, -0.02075195,  0.34375   ],\n",
       "      dtype=float32)"
      ]
     },
     "execution_count": 14,
     "metadata": {},
     "output_type": "execute_result"
    }
   ],
   "source": [
    "wv_google_news_300['apple']"
   ]
  },
  {
   "cell_type": "code",
   "execution_count": 7,
   "id": "2aa71df4",
   "metadata": {},
   "outputs": [],
   "source": [
    "from gensim.models import KeyedVectors\n",
    "wv_google_news_300 = KeyedVectors.load('../data/vectors/wv_google_news_300.kv')"
   ]
  },
  {
   "cell_type": "code",
   "execution_count": 8,
   "id": "2e1786bc",
   "metadata": {},
   "outputs": [],
   "source": [
    "wv_glove_twitter_50 = KeyedVectors.load('../data/vectors/wv_glove_twitter_50.kv')"
   ]
  },
  {
   "cell_type": "code",
   "execution_count": 9,
   "id": "58564386",
   "metadata": {},
   "outputs": [
    {
     "data": {
      "text/plain": [
       "0.5289788"
      ]
     },
     "execution_count": 9,
     "metadata": {},
     "output_type": "execute_result"
    }
   ],
   "source": [
    "wv_glove_twitter_50.similarity('apple', 'mango')"
   ]
  },
  {
   "cell_type": "code",
   "execution_count": 10,
   "id": "4d3d8d2e",
   "metadata": {},
   "outputs": [
    {
     "data": {
      "text/plain": [
       "0.51229525"
      ]
     },
     "execution_count": 10,
     "metadata": {},
     "output_type": "execute_result"
    }
   ],
   "source": [
    "wv_glove_twitter_50.similarity('apple', 'car')"
   ]
  },
  {
   "cell_type": "code",
   "execution_count": 11,
   "id": "024fa4ad",
   "metadata": {},
   "outputs": [
    {
     "data": {
      "text/plain": [
       "(0.57518554, 0.12830707)"
      ]
     },
     "execution_count": 11,
     "metadata": {},
     "output_type": "execute_result"
    }
   ],
   "source": [
    "wv_google_news_300.similarity('apple', 'mango'), wv_google_news_300.similarity('apple', 'car')"
   ]
  },
  {
   "cell_type": "code",
   "execution_count": 12,
   "id": "5636b33b",
   "metadata": {},
   "outputs": [
    {
     "data": {
      "text/plain": [
       "0.032157153"
      ]
     },
     "execution_count": 12,
     "metadata": {},
     "output_type": "execute_result"
    }
   ],
   "source": [
    "wv_google_news_300.similarity('man', 'mango')"
   ]
  },
  {
   "cell_type": "code",
   "execution_count": 31,
   "id": "ceabcc75",
   "metadata": {},
   "outputs": [
    {
     "data": {
      "text/plain": [
       "0.76640123"
      ]
     },
     "execution_count": 31,
     "metadata": {},
     "output_type": "execute_result"
    }
   ],
   "source": [
    "wv_google_news_300.similarity('man', 'woman')"
   ]
  },
  {
   "cell_type": "code",
   "execution_count": 33,
   "id": "9edf7633",
   "metadata": {},
   "outputs": [
    {
     "data": {
      "text/plain": [
       "0.6646681"
      ]
     },
     "execution_count": 33,
     "metadata": {},
     "output_type": "execute_result"
    }
   ],
   "source": [
    "wv_glove_twitter_50.similarity('man', 'king')"
   ]
  },
  {
   "cell_type": "code",
   "execution_count": 13,
   "id": "5acca707",
   "metadata": {},
   "outputs": [
    {
     "name": "stdout",
     "output_type": "stream",
     "text": [
      "'car'\t'minivan'\t0.69\n",
      "'car'\t'bicycle'\t0.54\n",
      "'car'\t'airplane'\t0.42\n",
      "'car'\t'cereal'\t0.14\n",
      "'car'\t'communism'\t0.06\n"
     ]
    }
   ],
   "source": [
    "pairs = [\n",
    "    ('car', 'minivan'),   # a minivan is a kind of car\n",
    "    ('car', 'bicycle'),   # still a wheeled vehicle\n",
    "    ('car', 'airplane'),  # ok, no wheels, but still a vehicle\n",
    "    ('car', 'cereal'),    # ... and so on\n",
    "    ('car', 'communism'),\n",
    "]\n",
    "for w1, w2 in pairs:\n",
    "    print('%r\\t%r\\t%.2f' % (w1, w2, wv_google_news_300.similarity(w1, w2)))"
   ]
  },
  {
   "cell_type": "code",
   "execution_count": 35,
   "id": "73b36dee",
   "metadata": {},
   "outputs": [
    {
     "name": "stdout",
     "output_type": "stream",
     "text": [
      "'car'\t'minivan'\t0.48\n",
      "'car'\t'bicycle'\t0.62\n",
      "'car'\t'airplane'\t0.67\n",
      "'car'\t'cereal'\t0.38\n",
      "'car'\t'communism'\t0.01\n"
     ]
    }
   ],
   "source": [
    "pairs = [\n",
    "    ('car', 'minivan'),   # a minivan is a kind of car\n",
    "    ('car', 'bicycle'),   # still a wheeled vehicle\n",
    "    ('car', 'airplane'),  # ok, no wheels, but still a vehicle\n",
    "    ('car', 'cereal'),    # ... and so on\n",
    "    ('car', 'communism'),\n",
    "]\n",
    "for w1, w2 in pairs:\n",
    "    print('%r\\t%r\\t%.2f' % (w1, w2, wv_glove_twitter_50.similarity(w1, w2)))"
   ]
  },
  {
   "cell_type": "code",
   "execution_count": 65,
   "id": "7431a39e",
   "metadata": {},
   "outputs": [
    {
     "name": "stdout",
     "output_type": "stream",
     "text": [
      "'car'\t'minivan'\t0.69\n",
      "'car'\t'bicycle'\t0.54\n",
      "'car'\t'airplane'\t0.42\n",
      "'car'\t'cereal'\t0.14\n",
      "'car'\t'communism'\t0.06\n"
     ]
    }
   ],
   "source": [
    "pairs = [\n",
    "    ('car', 'minivan'),   # a minivan is a kind of car\n",
    "    ('car', 'bicycle'),   # still a wheeled vehicle\n",
    "    ('car', 'airplane'),  # ok, no wheels, but still a vehicle\n",
    "    ('car', 'cereal'),    # ... and so on\n",
    "    ('car', 'communism'),\n",
    "]\n",
    "for w1, w2 in pairs:\n",
    "    print('%r\\t%r\\t%.2f' % (w1, w2, wv_google_news_300.similarity(w1, w2)))"
   ]
  },
  {
   "cell_type": "code",
   "execution_count": 45,
   "id": "3980459e",
   "metadata": {},
   "outputs": [
    {
     "name": "stdout",
     "output_type": "stream",
     "text": [
      "'man'\t'mechanic'\t0.32\n",
      "'man'\t'driver'\t0.38\n",
      "'woman'\t'woman'\t1.00\n",
      "'man'\t'car'\t0.24\n",
      "'man'\t'communism'\t0.07\n"
     ]
    }
   ],
   "source": [
    "pairs = [\n",
    "    ('man', 'mechanic'),   # a minivan is a kind of car\n",
    "    ('man', 'driver'),   # still a wheeled vehicle\n",
    "    ('man', 'woman'),  # ok, no wheels, but still a vehicle\n",
    "    ('man', 'car'),    # ... and so on\n",
    "    ('man', 'communism'),\n",
    "]\n",
    "for w1, w2 in pairs:\n",
    "    print('%r\\t%r\\t%.2f' % (w1, w2, wv_google_news_300.similarity(w1, w2)))"
   ]
  },
  {
   "cell_type": "code",
   "execution_count": 67,
   "id": "28b7fc6a",
   "metadata": {},
   "outputs": [
    {
     "data": {
      "text/plain": [
       "[('truck', 0.8638960719108582),\n",
       " ('driving', 0.8150991797447205),\n",
       " ('airplane', 0.8137863278388977),\n",
       " ('parked', 0.8027330636978149),\n",
       " ('drove', 0.8020969033241272)]"
      ]
     },
     "execution_count": 67,
     "metadata": {},
     "output_type": "execute_result"
    }
   ],
   "source": [
    "wv_glove_twitter_50.most_similar(positive=['car', 'minivan'], topn=5)"
   ]
  },
  {
   "cell_type": "code",
   "execution_count": 68,
   "id": "2166a88e",
   "metadata": {},
   "outputs": [
    {
     "data": {
      "text/plain": [
       "[('SUV', 0.8532192707061768),\n",
       " ('vehicle', 0.8175783753395081),\n",
       " ('pickup_truck', 0.7763688564300537),\n",
       " ('Jeep', 0.7567334175109863),\n",
       " ('Ford_Explorer', 0.7565720081329346)]"
      ]
     },
     "execution_count": 68,
     "metadata": {},
     "output_type": "execute_result"
    }
   ],
   "source": [
    "wv_google_news_300.most_similar(positive=['car', 'minivan'], topn=5)"
   ]
  },
  {
   "cell_type": "code",
   "execution_count": 69,
   "id": "6ab1fd26",
   "metadata": {},
   "outputs": [
    {
     "data": {
      "text/plain": [
       "'sea'"
      ]
     },
     "execution_count": 69,
     "metadata": {},
     "output_type": "execute_result"
    }
   ],
   "source": [
    "wv_glove_twitter_50.doesnt_match(['fire', 'water', 'land', 'sea', 'air', 'car'])"
   ]
  },
  {
   "cell_type": "code",
   "execution_count": 71,
   "id": "e46bde8f",
   "metadata": {},
   "outputs": [
    {
     "data": {
      "text/plain": [
       "'land'"
      ]
     },
     "execution_count": 71,
     "metadata": {},
     "output_type": "execute_result"
    }
   ],
   "source": [
    "wv_google_news_300.doesnt_match(['fire', 'water', 'land', 'sea', 'air', 'car'])"
   ]
  },
  {
   "cell_type": "code",
   "execution_count": 75,
   "id": "20adca54",
   "metadata": {},
   "outputs": [
    {
     "data": {
      "text/plain": [
       "'air'"
      ]
     },
     "execution_count": 75,
     "metadata": {},
     "output_type": "execute_result"
    }
   ],
   "source": [
    "wv_google_news_300.doesnt_match(['apple', 'banana', 'orange', 'gtrape', 'melon', 'air'])"
   ]
  },
  {
   "cell_type": "code",
   "execution_count": 73,
   "id": "ac4660ec",
   "metadata": {},
   "outputs": [
    {
     "data": {
      "text/plain": [
       "'melon'"
      ]
     },
     "execution_count": 73,
     "metadata": {},
     "output_type": "execute_result"
    }
   ],
   "source": [
    "wv_glove_twitter_50.doesnt_match(['apple', 'banana', 'orange', 'gtrape', 'air', 'melon'])"
   ]
  },
  {
   "cell_type": "code",
   "execution_count": 76,
   "id": "37628ebf",
   "metadata": {},
   "outputs": [
    {
     "data": {
      "text/plain": [
       "[('prince', 0.759779691696167),\n",
       " ('stone', 0.7595877051353455),\n",
       " ('queen', 0.754626989364624)]"
      ]
     },
     "execution_count": 76,
     "metadata": {},
     "output_type": "execute_result"
    }
   ],
   "source": [
    "wv_glove_twitter_50.most_similar(positive=['woman', 'king'], negative=['man'], topn=3)"
   ]
  },
  {
   "cell_type": "code",
   "execution_count": 77,
   "id": "53cf044e",
   "metadata": {},
   "outputs": [
    {
     "data": {
      "text/plain": [
       "[('queen', 0.7118193507194519),\n",
       " ('monarch', 0.6189674139022827),\n",
       " ('princess', 0.5902431011199951)]"
      ]
     },
     "execution_count": 77,
     "metadata": {},
     "output_type": "execute_result"
    }
   ],
   "source": [
    "wv_google_news_300.most_similar(positive=['woman', 'king'], negative=['man'], topn=3)"
   ]
  },
  {
   "cell_type": "code",
   "execution_count": 79,
   "id": "dfee39e3",
   "metadata": {},
   "outputs": [
    {
     "data": {
      "text/plain": [
       "[('man', 0.6628609299659729),\n",
       " ('queen', 0.6438563466072083),\n",
       " ('girl', 0.6136074066162109),\n",
       " ('princess', 0.6087510585784912),\n",
       " ('monarch', 0.5900576710700989)]"
      ]
     },
     "execution_count": 79,
     "metadata": {},
     "output_type": "execute_result"
    }
   ],
   "source": [
    "wv_google_news_300.most_similar(positive=['woman', 'king'], topn=5)"
   ]
  },
  {
   "cell_type": "code",
   "execution_count": 131,
   "id": "1c3d22c6",
   "metadata": {},
   "outputs": [],
   "source": [
    "words = [\"one\",'two','man','woman','table', 'apple', 'orange', 'car', 'bus', 'banana', 'chair', 'queen', 'four']"
   ]
  },
  {
   "cell_type": "code",
   "execution_count": 132,
   "id": "a00a6742",
   "metadata": {},
   "outputs": [],
   "source": [
    "sample_vectors = [wv_google_news_300[word] for word in words]"
   ]
  },
  {
   "cell_type": "code",
   "execution_count": 133,
   "id": "ab246946",
   "metadata": {},
   "outputs": [],
   "source": [
    "from sklearn.decomposition import PCA"
   ]
  },
  {
   "cell_type": "code",
   "execution_count": 134,
   "id": "5eaa726b",
   "metadata": {},
   "outputs": [],
   "source": [
    "pca = PCA(n_components=2)\n",
    "red_vectors = pca.fit_transform(sample_vectors)"
   ]
  },
  {
   "cell_type": "code",
   "execution_count": 135,
   "id": "8e26eaa3",
   "metadata": {},
   "outputs": [
    {
     "data": {
      "text/plain": [
       "array([[-0.18943282,  0.02923954],\n",
       "       [-0.38229739, -0.00707615],\n",
       "       [-0.63443777,  1.17084121],\n",
       "       [-0.85489302,  1.43872488],\n",
       "       [-0.41057035, -1.22202322],\n",
       "       [ 2.10221731,  0.03152234],\n",
       "       [ 1.52756292,  0.03242951],\n",
       "       [-0.71761532, -0.2864224 ],\n",
       "       [-0.70805671, -0.98995496],\n",
       "       [ 1.88504573, -0.15418251],\n",
       "       [-0.84062391, -1.45751999],\n",
       "       [-0.34451863,  1.46345655],\n",
       "       [-0.43238003, -0.04903479]])"
      ]
     },
     "execution_count": 135,
     "metadata": {},
     "output_type": "execute_result"
    }
   ],
   "source": [
    "red_vectors"
   ]
  },
  {
   "cell_type": "code",
   "execution_count": 136,
   "id": "5628e60c",
   "metadata": {},
   "outputs": [
    {
     "data": {
      "image/png": "[encoded data removed]",
      "text/plain": [
       "<Figure size 800x800 with 1 Axes>"
      ]
     },
     "metadata": {},
     "output_type": "display_data"
    }
   ],
   "source": [
    "plt.figure(figsize=(8,8))\n",
    "plt.scatter(red_vectors[:,0], red_vectors[:,1])\n",
    "for i, word in enumerate(words):\n",
    "    plt.annotate(word, xy=(red_vectors[i,0], red_vectors[i,1]))"
   ]
  },
  {
   "cell_type": "code",
   "execution_count": 16,
   "id": "a4b9db0e",
   "metadata": {},
   "outputs": [
    {
     "name": "stdout",
     "output_type": "stream",
     "text": [
      "{'sixty', 'me', 'nevertheless', 'using', 'per', 'another', 'their', '‘re', 'and', 'on', 'might', 'mine', 'seemed', 'no', \"'ve\", 'your', 'of', 'former', 'without', 'may', 'seeming', 'how', 'ca', 'am', 'therefore', \"'s\", 'though', 'put', 'each', 'whatever', 'upon', 'what', 'afterwards', 'along', 'keep', 'as', 'indeed', 'very', 'by', 'fifteen', 'themselves', 'own', 'show', 'while', 'go', 'why', 'or', 'through', 'thence', 'twenty', 'whereafter', 'hereafter', 'elsewhere', 'nor', 'up', 'toward', 'also', 'are', 'off', 'regarding', 'the', 'latter', 'is', 'only', 'already', 'our', \"'d\", 'whereas', 'has', 'n’t', 'moreover', 'twelve', 'neither', 'top', '’d', 'anything', 'eight', 'myself', 'be', 'any', 'everyone', 'someone', 'to', 'beforehand', 'anyone', 'full', 'name', 'against', 'move', 'becomes', 'two', 're', 'seem', 'you', 'yourselves', 'meanwhile', 'for', 'either', '’re', 'doing', 'between', 'somehow', 'after', 'would', 'ourselves', 'yet', 'say', 'been', 'anyway', '‘ll', 'us', \"'ll\", 'further', 'perhaps', 'empty', 'never', 'before', 'whence', 'five', 'herein', 'because', 'towards', 'enough', '’m', 'one', 'some', 'this', 'else', 'into', 'can', 'formerly', 'but', 'throughout', 'bottom', 'various', 'became', 'nothing', 'below', '’ve', 'a', 'have', 'n‘t', 'see', 'across', 'he', 'at', 'his', 'however', 'same', 'latterly', 'again', 'whose', 'over', 'whole', 'almost', 'was', '’s', 'wherever', 'hereby', 'anyhow', 'give', 'always', 'call', 'who', 'front', 'ten', 'amount', 'next', 'more', 'thereafter', 'all', 'whoever', 'under', 'could', 'due', 'yours', 'in', 'noone', 'about', 'other', 'around', \"n't\", 'then', 'still', 'had', 'too', 'yourself', 'it', 'something', 'where', 'every', 'serious', 'within', 'used', 'hundred', 'beside', 'whenever', 'than', 'thru', 'here', 'less', 'nine', 'third', 'except', 'now', 'among', 'quite', '‘ve', 'everything', 'thus', 'none', \"'m\", 'should', 'them', 'nowhere', 'when', 'three', 'whom', 'make', 'she', 'sometime', 'become', 'much', 'really', 'whither', 'him', 'made', 'somewhere', '‘m', 'so', 'many', 'several', 'not', 'becoming', 'there', 'mostly', 'onto', 'others', 'i', 'even', 'alone', 'ever', 'well', 'rather', 'does', 'those', 'until', 'they', 'wherein', 'its', 'out', 'done', 'sometimes', 'seems', 'my', 'least', 'whether', 'itself', 'back', 'himself', 'since', 'being', 'besides', 'ours', '‘d', 'everywhere', 'take', 'thereby', 'side', 'beyond', 'during', 'otherwise', 'will', 'most', 'must', \"'re\", 'with', 'thereupon', 'cannot', 'from', 'both', 'fifty', 'hence', 'please', 'hereupon', 'whereby', 'part', 'few', 'which', 'down', 'behind', 'once', 'were', 'did', '‘s', 'such', 'we', 'whereupon', 'her', 'hers', 'unless', 'first', 'just', 'amongst', 'six', 'anywhere', 'nobody', 'herself', 'via', 'do', 'forty', 'often', 'get', 'eleven', 'last', 'namely', 'therein', '’ll', 'these', 'four', 'that', 'if', 'an', 'together', 'although', 'above'}\n"
     ]
    }
   ],
   "source": [
    "nlp = spacy.load('en_core_web_sm')\n",
    "stop_words = nlp.Defaults.stop_words\n",
    "print(stop_words)"
   ]
  },
  {
   "cell_type": "code",
   "execution_count": 17,
   "id": "56738c11",
   "metadata": {},
   "outputs": [
    {
     "name": "stdout",
     "output_type": "stream",
     "text": [
      "!\"#$%&'()*+,-./:;<=>?@[\\]^_`{|}~\n"
     ]
    }
   ],
   "source": [
    "punctuations = string.punctuation\n",
    "print(punctuations)"
   ]
  },
  {
   "cell_type": "code",
   "execution_count": 19,
   "id": "48bc0437",
   "metadata": {},
   "outputs": [],
   "source": [
    "def spacy_tokenizer(sentence):\n",
    "    doc = nlp(sentence)\n",
    "    my_tokens = [word.lemma_.lower() for word in doc]\n",
    "    \n",
    "    my_tokens = [token for token in my_tokens if token not in stop_words and token not in punctuations]\n",
    "    \n",
    "    return my_tokens"
   ]
  },
  {
   "cell_type": "code",
   "execution_count": 24,
   "id": "7e49b644",
   "metadata": {},
   "outputs": [],
   "source": [
    "def sent_vec(tokens, wv):\n",
    "    vec_size = wv.vector_size\n",
    "    vec = np.zeros(vec_size)\n",
    "    ctr = 0\n",
    "    for token in tokens:\n",
    "        if token in wv:\n",
    "            vec += wv_google_news_300[token]\n",
    "            ctr +=1\n",
    "    vec /= ctr    \n",
    "    return vec"
   ]
  },
  {
   "cell_type": "code",
   "execution_count": 25,
   "id": "e8e2cc98",
   "metadata": {},
   "outputs": [
    {
     "data": {
      "text/plain": [
       "array([-0.09855143,  0.12802633, -0.00528971,  0.2142334 , -0.06935628,\n",
       "       -0.04682414, -0.11714681,  0.04329427, -0.02920532,  0.05517578,\n",
       "       -0.08801142, -0.19173177, -0.13023885,  0.03401693, -0.14339193,\n",
       "        0.12158203, -0.00496419,  0.32124837, -0.01961263, -0.09421285,\n",
       "       -0.31205241, -0.08495331,  0.09495036, -0.02915446, -0.06252035,\n",
       "       -0.09298197, -0.35449219,  0.12286886, -0.04382324, -0.04700724,\n",
       "        0.07531738, -0.02567546, -0.1325531 , -0.14819336, -0.23128255,\n",
       "        0.08074951, -0.16984049,  0.21533203, -0.06466675,  0.11775716,\n",
       "        0.12516276, -0.09240723, -0.01442464,  0.13399251,  0.11010742,\n",
       "        0.0235726 , -0.10447184, -0.15063477, -0.0423584 ,  0.06081136,\n",
       "       -0.14233398,  0.27832031, -0.04732259,  0.14597575,  0.0649821 ,\n",
       "        0.14440918, -0.09765625, -0.06404622, -0.03403727, -0.21468099,\n",
       "       -0.1702474 , -0.05729167, -0.18485514, -0.04242452,  0.00733439,\n",
       "       -0.35038249, -0.13305664,  0.09952799,  0.01257324,  0.0670166 ,\n",
       "       -0.11661784, -0.12210083,  0.1233724 , -0.0107015 , -0.11461639,\n",
       "       -0.05712891,  0.20703125, -0.05062358, -0.07543945,  0.01531982,\n",
       "       -0.1120402 ,  0.00623576,  0.09868113,  0.02331543,  0.03141276,\n",
       "        0.03211466, -0.02341715,  0.39550781,  0.03416189,  0.10538737,\n",
       "        0.09181722,  0.00195312, -0.03887939, -0.0337321 , -0.07104492,\n",
       "        0.08811442, -0.05639648, -0.01900228,  0.11971029, -0.16318766,\n",
       "       -0.1023763 , -0.00154622, -0.07177734, -0.05360921,  0.02044169,\n",
       "        0.21028646, -0.07973226,  0.0982666 , -0.08467611, -0.09078471,\n",
       "       -0.0534668 , -0.12764486,  0.02751033, -0.17468262,  0.01619848,\n",
       "        0.13346354,  0.10330391, -0.00698853,  0.10907491,  0.06298192,\n",
       "        0.08390299,  0.04882812,  0.09136963,  0.10209147,  0.1500651 ,\n",
       "       -0.24515788,  0.00980123,  0.03629557,  0.03951009,  0.12084961,\n",
       "       -0.08601888, -0.06406657, -0.01542664, -0.07010905, -0.1317749 ,\n",
       "        0.00927734,  0.02144368,  0.18448893,  0.20442708,  0.23746745,\n",
       "        0.11366781,  0.00484212, -0.00529989, -0.06193034, -0.10925293,\n",
       "        0.02594566, -0.08382161,  0.08548991, -0.08915202,  0.01371002,\n",
       "       -0.00195312, -0.32877604, -0.14355469, -0.06266276, -0.13193766,\n",
       "       -0.08231608,  0.05572255,  0.23413086, -0.0211614 , -0.02364095,\n",
       "        0.03818766,  0.19091797,  0.08542887,  0.06202189,  0.05548096,\n",
       "       -0.01318359,  0.14542643,  0.07246145, -0.12963867,  0.11786906,\n",
       "       -0.16031901, -0.15319824,  0.04167684, -0.03386434, -0.08241781,\n",
       "        0.25191243,  0.23811849, -0.21272786,  0.09411621,  0.01204427,\n",
       "       -0.09309896,  0.12872314,  0.07397461,  0.02579753, -0.10024007,\n",
       "        0.08988444, -0.08461507,  0.08385468,  0.01413981, -0.03570557,\n",
       "        0.1005249 , -0.17801921, -0.14678955,  0.05611165,  0.20092773,\n",
       "        0.01615397, -0.02449544, -0.00849915,  0.07857259, -0.03133138,\n",
       "       -0.13801066,  0.04846191, -0.14697266, -0.15323893,  0.05930583,\n",
       "       -0.06817627, -0.09179688,  0.11352539, -0.06681315,  0.16212972,\n",
       "        0.16144816, -0.00109863, -0.2010498 ,  0.0618693 , -0.13757324,\n",
       "       -0.00203451,  0.17407227, -0.09041341, -0.04783122,  0.03452555,\n",
       "       -0.06685384,  0.1755778 ,  0.2598877 , -0.00581868,  0.06542969,\n",
       "       -0.13045247,  0.09672038,  0.16064453, -0.02490234, -0.01196289,\n",
       "       -0.01534017,  0.00909424, -0.19130452, -0.05938721, -0.03116862,\n",
       "        0.0715332 , -0.1060791 ,  0.16015625,  0.13541667,  0.03316243,\n",
       "        0.08592224,  0.08848063,  0.19995117, -0.09834798, -0.00215658,\n",
       "        0.14532979, -0.15622965,  0.15698242, -0.14383952, -0.00606283,\n",
       "        0.12530835, -0.06624349, -0.02972412,  0.14642334, -0.05314128,\n",
       "       -0.14347331, -0.01137797,  0.00602214,  0.1006012 , -0.07233175,\n",
       "       -0.01501465, -0.03739421,  0.03788249, -0.10449219, -0.11531576,\n",
       "        0.09723409,  0.13354492, -0.04268392,  0.06272888, -0.0538737 ,\n",
       "       -0.0811437 ,  0.05289714,  0.16359456,  0.02689616,  0.0818278 ,\n",
       "       -0.02274577, -0.26448568, -0.15958659, -0.12052409,  0.10412598,\n",
       "        0.01569621,  0.2860171 ,  0.02040609, -0.06488037,  0.07234701,\n",
       "       -0.01996867,  0.01333618,  0.01676432, -0.06937663, -0.10697428,\n",
       "        0.05157471, -0.07340495, -0.24001058,  0.12583415, -0.01318359,\n",
       "       -0.18448893, -0.13462321, -0.00430298, -0.00675456,  0.06013997])"
      ]
     },
     "execution_count": 25,
     "metadata": {},
     "output_type": "execute_result"
    }
   ],
   "source": [
    "sent_vec('I am happy', wv_google_news_300)"
   ]
  },
  {
   "cell_type": "code",
   "execution_count": 26,
   "id": "1241af23",
   "metadata": {},
   "outputs": [],
   "source": [
    "data = pd.read_csv('../data/jigsaw-toxic-comment-classification-challenge/train.csv')"
   ]
  },
  {
   "cell_type": "code",
   "execution_count": 27,
   "id": "48668492",
   "metadata": {},
   "outputs": [],
   "source": [
    "from sklearn.model_selection import train_test_split"
   ]
  },
  {
   "cell_type": "code",
   "execution_count": 33,
   "id": "00867cc3",
   "metadata": {},
   "outputs": [],
   "source": [
    "data = data.iloc[:2000].copy()"
   ]
  },
  {
   "cell_type": "code",
   "execution_count": 34,
   "id": "482ec74d",
   "metadata": {},
   "outputs": [],
   "source": [
    "data['tokens'] = data['comment_text'].apply(spacy_tokenizer)"
   ]
  },
  {
   "cell_type": "code",
   "execution_count": 35,
   "id": "ad8e0cfc",
   "metadata": {},
   "outputs": [
    {
     "data": {
      "text/html": [
       "<div>\n",
       "<style scoped>\n",
       "    .dataframe tbody tr th:only-of-type {\n",
       "        vertical-align: middle;\n",
       "    }\n",
       "\n",
       "    .dataframe tbody tr th {\n",
       "        vertical-align: top;\n",
       "    }\n",
       "\n",
       "    .dataframe thead th {\n",
       "        text-align: right;\n",
       "    }\n",
       "</style>\n",
       "<table border=\"1\" class=\"dataframe\">\n",
       "  <thead>\n",
       "    <tr style=\"text-align: right;\">\n",
       "      <th></th>\n",
       "      <th>id</th>\n",
       "      <th>comment_text</th>\n",
       "      <th>toxic</th>\n",
       "      <th>severe_toxic</th>\n",
       "      <th>obscene</th>\n",
       "      <th>threat</th>\n",
       "      <th>insult</th>\n",
       "      <th>identity_hate</th>\n",
       "      <th>tokens</th>\n",
       "    </tr>\n",
       "  </thead>\n",
       "  <tbody>\n",
       "    <tr>\n",
       "      <th>0</th>\n",
       "      <td>0000997932d777bf</td>\n",
       "      <td>Explanation\\nWhy the edits made under my usern...</td>\n",
       "      <td>0</td>\n",
       "      <td>0</td>\n",
       "      <td>0</td>\n",
       "      <td>0</td>\n",
       "      <td>0</td>\n",
       "      <td>0</td>\n",
       "      <td>[explanation, \\n, edit, username, hardcore, me...</td>\n",
       "    </tr>\n",
       "    <tr>\n",
       "      <th>1</th>\n",
       "      <td>000103f0d9cfb60f</td>\n",
       "      <td>D'aww! He matches this background colour I'm s...</td>\n",
       "      <td>0</td>\n",
       "      <td>0</td>\n",
       "      <td>0</td>\n",
       "      <td>0</td>\n",
       "      <td>0</td>\n",
       "      <td>0</td>\n",
       "      <td>[d'aww, match, background, colour, seemingly, ...</td>\n",
       "    </tr>\n",
       "    <tr>\n",
       "      <th>2</th>\n",
       "      <td>000113f07ec002fd</td>\n",
       "      <td>Hey man, I'm really not trying to edit war. It...</td>\n",
       "      <td>0</td>\n",
       "      <td>0</td>\n",
       "      <td>0</td>\n",
       "      <td>0</td>\n",
       "      <td>0</td>\n",
       "      <td>0</td>\n",
       "      <td>[hey, man, try, edit, war, guy, constantly, re...</td>\n",
       "    </tr>\n",
       "    <tr>\n",
       "      <th>3</th>\n",
       "      <td>0001b41b1c6bb37e</td>\n",
       "      <td>\"\\nMore\\nI can't make any real suggestions on ...</td>\n",
       "      <td>0</td>\n",
       "      <td>0</td>\n",
       "      <td>0</td>\n",
       "      <td>0</td>\n",
       "      <td>0</td>\n",
       "      <td>0</td>\n",
       "      <td>[\\n, \\n, real, suggestion, improvement, wonder...</td>\n",
       "    </tr>\n",
       "    <tr>\n",
       "      <th>4</th>\n",
       "      <td>0001d958c54c6e35</td>\n",
       "      <td>You, sir, are my hero. Any chance you remember...</td>\n",
       "      <td>0</td>\n",
       "      <td>0</td>\n",
       "      <td>0</td>\n",
       "      <td>0</td>\n",
       "      <td>0</td>\n",
       "      <td>0</td>\n",
       "      <td>[sir, hero, chance, remember, page]</td>\n",
       "    </tr>\n",
       "  </tbody>\n",
       "</table>\n",
       "</div>"
      ],
      "text/plain": [
       "                 id                                       comment_text  toxic  \\\n",
       "0  0000997932d777bf  Explanation\\nWhy the edits made under my usern...      0   \n",
       "1  000103f0d9cfb60f  D'aww! He matches this background colour I'm s...      0   \n",
       "2  000113f07ec002fd  Hey man, I'm really not trying to edit war. It...      0   \n",
       "3  0001b41b1c6bb37e  \"\\nMore\\nI can't make any real suggestions on ...      0   \n",
       "4  0001d958c54c6e35  You, sir, are my hero. Any chance you remember...      0   \n",
       "\n",
       "   severe_toxic  obscene  threat  insult  identity_hate  \\\n",
       "0             0        0       0       0              0   \n",
       "1             0        0       0       0              0   \n",
       "2             0        0       0       0              0   \n",
       "3             0        0       0       0              0   \n",
       "4             0        0       0       0              0   \n",
       "\n",
       "                                              tokens  \n",
       "0  [explanation, \\n, edit, username, hardcore, me...  \n",
       "1  [d'aww, match, background, colour, seemingly, ...  \n",
       "2  [hey, man, try, edit, war, guy, constantly, re...  \n",
       "3  [\\n, \\n, real, suggestion, improvement, wonder...  \n",
       "4                [sir, hero, chance, remember, page]  "
      ]
     },
     "execution_count": 35,
     "metadata": {},
     "output_type": "execute_result"
    }
   ],
   "source": [
    "data.head()"
   ]
  },
  {
   "cell_type": "code",
   "execution_count": 38,
   "id": "bedbfdd8",
   "metadata": {},
   "outputs": [],
   "source": [
    "data['vec'] = data['tokens'].apply(lambda token: sent_vec(token,wv_google_news_300 ) )"
   ]
  },
  {
   "cell_type": "code",
   "execution_count": 39,
   "id": "330883d1",
   "metadata": {},
   "outputs": [
    {
     "data": {
      "text/html": [
       "<div>\n",
       "<style scoped>\n",
       "    .dataframe tbody tr th:only-of-type {\n",
       "        vertical-align: middle;\n",
       "    }\n",
       "\n",
       "    .dataframe tbody tr th {\n",
       "        vertical-align: top;\n",
       "    }\n",
       "\n",
       "    .dataframe thead th {\n",
       "        text-align: right;\n",
       "    }\n",
       "</style>\n",
       "<table border=\"1\" class=\"dataframe\">\n",
       "  <thead>\n",
       "    <tr style=\"text-align: right;\">\n",
       "      <th></th>\n",
       "      <th>id</th>\n",
       "      <th>comment_text</th>\n",
       "      <th>toxic</th>\n",
       "      <th>severe_toxic</th>\n",
       "      <th>obscene</th>\n",
       "      <th>threat</th>\n",
       "      <th>insult</th>\n",
       "      <th>identity_hate</th>\n",
       "      <th>tokens</th>\n",
       "      <th>vec</th>\n",
       "    </tr>\n",
       "  </thead>\n",
       "  <tbody>\n",
       "    <tr>\n",
       "      <th>0</th>\n",
       "      <td>0000997932d777bf</td>\n",
       "      <td>Explanation\\nWhy the edits made under my usern...</td>\n",
       "      <td>0</td>\n",
       "      <td>0</td>\n",
       "      <td>0</td>\n",
       "      <td>0</td>\n",
       "      <td>0</td>\n",
       "      <td>0</td>\n",
       "      <td>[explanation, \\n, edit, username, hardcore, me...</td>\n",
       "      <td>[-0.005690765380859375, 0.0490936279296875, 0....</td>\n",
       "    </tr>\n",
       "    <tr>\n",
       "      <th>1</th>\n",
       "      <td>000103f0d9cfb60f</td>\n",
       "      <td>D'aww! He matches this background colour I'm s...</td>\n",
       "      <td>0</td>\n",
       "      <td>0</td>\n",
       "      <td>0</td>\n",
       "      <td>0</td>\n",
       "      <td>0</td>\n",
       "      <td>0</td>\n",
       "      <td>[d'aww, match, background, colour, seemingly, ...</td>\n",
       "      <td>[-0.03828239440917969, -0.04836273193359375, -...</td>\n",
       "    </tr>\n",
       "    <tr>\n",
       "      <th>2</th>\n",
       "      <td>000113f07ec002fd</td>\n",
       "      <td>Hey man, I'm really not trying to edit war. It...</td>\n",
       "      <td>0</td>\n",
       "      <td>0</td>\n",
       "      <td>0</td>\n",
       "      <td>0</td>\n",
       "      <td>0</td>\n",
       "      <td>0</td>\n",
       "      <td>[hey, man, try, edit, war, guy, constantly, re...</td>\n",
       "      <td>[0.03294774105674342, 0.0455322265625, -0.0103...</td>\n",
       "    </tr>\n",
       "    <tr>\n",
       "      <th>3</th>\n",
       "      <td>0001b41b1c6bb37e</td>\n",
       "      <td>\"\\nMore\\nI can't make any real suggestions on ...</td>\n",
       "      <td>0</td>\n",
       "      <td>0</td>\n",
       "      <td>0</td>\n",
       "      <td>0</td>\n",
       "      <td>0</td>\n",
       "      <td>0</td>\n",
       "      <td>[\\n, \\n, real, suggestion, improvement, wonder...</td>\n",
       "      <td>[0.008761894412157013, 0.007128459651295732, 0...</td>\n",
       "    </tr>\n",
       "    <tr>\n",
       "      <th>4</th>\n",
       "      <td>0001d958c54c6e35</td>\n",
       "      <td>You, sir, are my hero. Any chance you remember...</td>\n",
       "      <td>0</td>\n",
       "      <td>0</td>\n",
       "      <td>0</td>\n",
       "      <td>0</td>\n",
       "      <td>0</td>\n",
       "      <td>0</td>\n",
       "      <td>[sir, hero, chance, remember, page]</td>\n",
       "      <td>[0.1724609375, 0.06171875, 0.16016845703125, 0...</td>\n",
       "    </tr>\n",
       "  </tbody>\n",
       "</table>\n",
       "</div>"
      ],
      "text/plain": [
       "                 id                                       comment_text  toxic  \\\n",
       "0  0000997932d777bf  Explanation\\nWhy the edits made under my usern...      0   \n",
       "1  000103f0d9cfb60f  D'aww! He matches this background colour I'm s...      0   \n",
       "2  000113f07ec002fd  Hey man, I'm really not trying to edit war. It...      0   \n",
       "3  0001b41b1c6bb37e  \"\\nMore\\nI can't make any real suggestions on ...      0   \n",
       "4  0001d958c54c6e35  You, sir, are my hero. Any chance you remember...      0   \n",
       "\n",
       "   severe_toxic  obscene  threat  insult  identity_hate  \\\n",
       "0             0        0       0       0              0   \n",
       "1             0        0       0       0              0   \n",
       "2             0        0       0       0              0   \n",
       "3             0        0       0       0              0   \n",
       "4             0        0       0       0              0   \n",
       "\n",
       "                                              tokens  \\\n",
       "0  [explanation, \\n, edit, username, hardcore, me...   \n",
       "1  [d'aww, match, background, colour, seemingly, ...   \n",
       "2  [hey, man, try, edit, war, guy, constantly, re...   \n",
       "3  [\\n, \\n, real, suggestion, improvement, wonder...   \n",
       "4                [sir, hero, chance, remember, page]   \n",
       "\n",
       "                                                 vec  \n",
       "0  [-0.005690765380859375, 0.0490936279296875, 0....  \n",
       "1  [-0.03828239440917969, -0.04836273193359375, -...  \n",
       "2  [0.03294774105674342, 0.0455322265625, -0.0103...  \n",
       "3  [0.008761894412157013, 0.007128459651295732, 0...  \n",
       "4  [0.1724609375, 0.06171875, 0.16016845703125, 0...  "
      ]
     },
     "execution_count": 39,
     "metadata": {},
     "output_type": "execute_result"
    }
   ],
   "source": [
    "data.head()"
   ]
  },
  {
   "cell_type": "code",
   "execution_count": 40,
   "id": "b25871e7",
   "metadata": {},
   "outputs": [],
   "source": [
    "from sklearn.linear_model import LogisticRegression"
   ]
  },
  {
   "cell_type": "code",
   "execution_count": 60,
   "id": "ba53a66d",
   "metadata": {},
   "outputs": [],
   "source": [
    "X = pd.DataFrame(data['vec'].to_list())\n",
    "y = data['toxic']"
   ]
  },
  {
   "cell_type": "code",
   "execution_count": 65,
   "id": "9bb8864d",
   "metadata": {},
   "outputs": [],
   "source": [
    "temp = pd.concat([X,y],axis=1).dropna()"
   ]
  },
  {
   "cell_type": "code",
   "execution_count": 66,
   "id": "2e7d9522",
   "metadata": {},
   "outputs": [],
   "source": [
    "X = temp.iloc[:,:-1]\n",
    "y = temp.iloc[:,-1]"
   ]
  },
  {
   "cell_type": "code",
   "execution_count": 67,
   "id": "a14ee02f",
   "metadata": {},
   "outputs": [
    {
     "data": {
      "text/html": [
       "<div>\n",
       "<style scoped>\n",
       "    .dataframe tbody tr th:only-of-type {\n",
       "        vertical-align: middle;\n",
       "    }\n",
       "\n",
       "    .dataframe tbody tr th {\n",
       "        vertical-align: top;\n",
       "    }\n",
       "\n",
       "    .dataframe thead th {\n",
       "        text-align: right;\n",
       "    }\n",
       "</style>\n",
       "<table border=\"1\" class=\"dataframe\">\n",
       "  <thead>\n",
       "    <tr style=\"text-align: right;\">\n",
       "      <th></th>\n",
       "      <th>0</th>\n",
       "      <th>1</th>\n",
       "      <th>2</th>\n",
       "      <th>3</th>\n",
       "      <th>4</th>\n",
       "      <th>5</th>\n",
       "      <th>6</th>\n",
       "      <th>7</th>\n",
       "      <th>8</th>\n",
       "      <th>9</th>\n",
       "      <th>...</th>\n",
       "      <th>290</th>\n",
       "      <th>291</th>\n",
       "      <th>292</th>\n",
       "      <th>293</th>\n",
       "      <th>294</th>\n",
       "      <th>295</th>\n",
       "      <th>296</th>\n",
       "      <th>297</th>\n",
       "      <th>298</th>\n",
       "      <th>299</th>\n",
       "    </tr>\n",
       "  </thead>\n",
       "  <tbody>\n",
       "    <tr>\n",
       "      <th>0</th>\n",
       "      <td>-0.005691</td>\n",
       "      <td>0.049094</td>\n",
       "      <td>0.001404</td>\n",
       "      <td>0.089334</td>\n",
       "      <td>-0.067700</td>\n",
       "      <td>-0.001893</td>\n",
       "      <td>-0.002663</td>\n",
       "      <td>-0.123730</td>\n",
       "      <td>0.129883</td>\n",
       "      <td>0.027743</td>\n",
       "      <td>...</td>\n",
       "      <td>0.049402</td>\n",
       "      <td>0.085904</td>\n",
       "      <td>-0.078004</td>\n",
       "      <td>0.007092</td>\n",
       "      <td>-0.011893</td>\n",
       "      <td>-0.069122</td>\n",
       "      <td>0.051978</td>\n",
       "      <td>-0.091455</td>\n",
       "      <td>-0.039178</td>\n",
       "      <td>-0.017926</td>\n",
       "    </tr>\n",
       "    <tr>\n",
       "      <th>1</th>\n",
       "      <td>-0.038282</td>\n",
       "      <td>-0.048363</td>\n",
       "      <td>-0.016762</td>\n",
       "      <td>0.102661</td>\n",
       "      <td>-0.006042</td>\n",
       "      <td>-0.035692</td>\n",
       "      <td>0.067307</td>\n",
       "      <td>-0.159180</td>\n",
       "      <td>0.031708</td>\n",
       "      <td>0.017532</td>\n",
       "      <td>...</td>\n",
       "      <td>-0.026367</td>\n",
       "      <td>0.098145</td>\n",
       "      <td>-0.028259</td>\n",
       "      <td>0.031067</td>\n",
       "      <td>0.005219</td>\n",
       "      <td>-0.104248</td>\n",
       "      <td>-0.071442</td>\n",
       "      <td>-0.003654</td>\n",
       "      <td>-0.009644</td>\n",
       "      <td>-0.018147</td>\n",
       "    </tr>\n",
       "    <tr>\n",
       "      <th>2</th>\n",
       "      <td>0.032948</td>\n",
       "      <td>0.045532</td>\n",
       "      <td>-0.010384</td>\n",
       "      <td>0.058909</td>\n",
       "      <td>-0.077659</td>\n",
       "      <td>0.067068</td>\n",
       "      <td>0.103117</td>\n",
       "      <td>-0.037325</td>\n",
       "      <td>0.066214</td>\n",
       "      <td>-0.049445</td>\n",
       "      <td>...</td>\n",
       "      <td>0.031507</td>\n",
       "      <td>0.047447</td>\n",
       "      <td>-0.067017</td>\n",
       "      <td>0.013720</td>\n",
       "      <td>-0.084930</td>\n",
       "      <td>-0.086442</td>\n",
       "      <td>0.042069</td>\n",
       "      <td>-0.165579</td>\n",
       "      <td>-0.031374</td>\n",
       "      <td>0.017075</td>\n",
       "    </tr>\n",
       "    <tr>\n",
       "      <th>3</th>\n",
       "      <td>0.008762</td>\n",
       "      <td>0.007128</td>\n",
       "      <td>0.039973</td>\n",
       "      <td>0.079590</td>\n",
       "      <td>-0.099370</td>\n",
       "      <td>0.010062</td>\n",
       "      <td>0.055500</td>\n",
       "      <td>-0.077873</td>\n",
       "      <td>0.110748</td>\n",
       "      <td>0.025889</td>\n",
       "      <td>...</td>\n",
       "      <td>-0.039908</td>\n",
       "      <td>0.010489</td>\n",
       "      <td>-0.043777</td>\n",
       "      <td>0.002191</td>\n",
       "      <td>0.023512</td>\n",
       "      <td>-0.075115</td>\n",
       "      <td>-0.004955</td>\n",
       "      <td>-0.133040</td>\n",
       "      <td>-0.048448</td>\n",
       "      <td>-0.011993</td>\n",
       "    </tr>\n",
       "    <tr>\n",
       "      <th>4</th>\n",
       "      <td>0.172461</td>\n",
       "      <td>0.061719</td>\n",
       "      <td>0.160168</td>\n",
       "      <td>0.140625</td>\n",
       "      <td>-0.009998</td>\n",
       "      <td>0.002979</td>\n",
       "      <td>0.070239</td>\n",
       "      <td>-0.093164</td>\n",
       "      <td>0.104956</td>\n",
       "      <td>0.073151</td>\n",
       "      <td>...</td>\n",
       "      <td>0.041016</td>\n",
       "      <td>-0.063782</td>\n",
       "      <td>-0.206836</td>\n",
       "      <td>-0.013220</td>\n",
       "      <td>0.001782</td>\n",
       "      <td>-0.128491</td>\n",
       "      <td>-0.091309</td>\n",
       "      <td>-0.148682</td>\n",
       "      <td>-0.026367</td>\n",
       "      <td>-0.037659</td>\n",
       "    </tr>\n",
       "    <tr>\n",
       "      <th>...</th>\n",
       "      <td>...</td>\n",
       "      <td>...</td>\n",
       "      <td>...</td>\n",
       "      <td>...</td>\n",
       "      <td>...</td>\n",
       "      <td>...</td>\n",
       "      <td>...</td>\n",
       "      <td>...</td>\n",
       "      <td>...</td>\n",
       "      <td>...</td>\n",
       "      <td>...</td>\n",
       "      <td>...</td>\n",
       "      <td>...</td>\n",
       "      <td>...</td>\n",
       "      <td>...</td>\n",
       "      <td>...</td>\n",
       "      <td>...</td>\n",
       "      <td>...</td>\n",
       "      <td>...</td>\n",
       "      <td>...</td>\n",
       "      <td>...</td>\n",
       "    </tr>\n",
       "    <tr>\n",
       "      <th>1995</th>\n",
       "      <td>-0.030589</td>\n",
       "      <td>-0.013684</td>\n",
       "      <td>0.094381</td>\n",
       "      <td>0.196791</td>\n",
       "      <td>-0.193759</td>\n",
       "      <td>-0.045397</td>\n",
       "      <td>-0.018161</td>\n",
       "      <td>-0.031148</td>\n",
       "      <td>0.104574</td>\n",
       "      <td>0.153120</td>\n",
       "      <td>...</td>\n",
       "      <td>0.143500</td>\n",
       "      <td>0.102878</td>\n",
       "      <td>-0.033549</td>\n",
       "      <td>0.014560</td>\n",
       "      <td>0.106539</td>\n",
       "      <td>-0.108364</td>\n",
       "      <td>0.003852</td>\n",
       "      <td>-0.067980</td>\n",
       "      <td>0.038628</td>\n",
       "      <td>0.030482</td>\n",
       "    </tr>\n",
       "    <tr>\n",
       "      <th>1996</th>\n",
       "      <td>0.048108</td>\n",
       "      <td>0.020143</td>\n",
       "      <td>-0.010266</td>\n",
       "      <td>0.029490</td>\n",
       "      <td>-0.063149</td>\n",
       "      <td>-0.007761</td>\n",
       "      <td>0.027643</td>\n",
       "      <td>-0.042986</td>\n",
       "      <td>0.091641</td>\n",
       "      <td>0.028681</td>\n",
       "      <td>...</td>\n",
       "      <td>-0.012826</td>\n",
       "      <td>0.027820</td>\n",
       "      <td>-0.048538</td>\n",
       "      <td>-0.016179</td>\n",
       "      <td>-0.052150</td>\n",
       "      <td>-0.087704</td>\n",
       "      <td>0.005823</td>\n",
       "      <td>-0.073369</td>\n",
       "      <td>-0.002671</td>\n",
       "      <td>-0.002790</td>\n",
       "    </tr>\n",
       "    <tr>\n",
       "      <th>1997</th>\n",
       "      <td>0.046555</td>\n",
       "      <td>-0.002913</td>\n",
       "      <td>-0.008834</td>\n",
       "      <td>0.072227</td>\n",
       "      <td>-0.067897</td>\n",
       "      <td>0.059588</td>\n",
       "      <td>0.142088</td>\n",
       "      <td>-0.034311</td>\n",
       "      <td>0.129441</td>\n",
       "      <td>0.046461</td>\n",
       "      <td>...</td>\n",
       "      <td>-0.018479</td>\n",
       "      <td>0.019729</td>\n",
       "      <td>-0.036946</td>\n",
       "      <td>0.042611</td>\n",
       "      <td>-0.031345</td>\n",
       "      <td>-0.031733</td>\n",
       "      <td>0.024476</td>\n",
       "      <td>-0.085574</td>\n",
       "      <td>-0.000027</td>\n",
       "      <td>0.024030</td>\n",
       "    </tr>\n",
       "    <tr>\n",
       "      <th>1998</th>\n",
       "      <td>-0.046168</td>\n",
       "      <td>-0.050310</td>\n",
       "      <td>0.000846</td>\n",
       "      <td>0.005399</td>\n",
       "      <td>-0.077535</td>\n",
       "      <td>0.013575</td>\n",
       "      <td>0.068605</td>\n",
       "      <td>0.011301</td>\n",
       "      <td>0.083583</td>\n",
       "      <td>-0.040436</td>\n",
       "      <td>...</td>\n",
       "      <td>0.001826</td>\n",
       "      <td>0.040070</td>\n",
       "      <td>0.026591</td>\n",
       "      <td>0.017526</td>\n",
       "      <td>-0.070594</td>\n",
       "      <td>0.063235</td>\n",
       "      <td>-0.008446</td>\n",
       "      <td>-0.104127</td>\n",
       "      <td>-0.056775</td>\n",
       "      <td>0.028263</td>\n",
       "    </tr>\n",
       "    <tr>\n",
       "      <th>1999</th>\n",
       "      <td>-0.078979</td>\n",
       "      <td>0.065430</td>\n",
       "      <td>-0.030590</td>\n",
       "      <td>0.310791</td>\n",
       "      <td>-0.027771</td>\n",
       "      <td>-0.039429</td>\n",
       "      <td>0.090240</td>\n",
       "      <td>-0.114258</td>\n",
       "      <td>-0.064911</td>\n",
       "      <td>0.062714</td>\n",
       "      <td>...</td>\n",
       "      <td>0.015259</td>\n",
       "      <td>0.207031</td>\n",
       "      <td>-0.100800</td>\n",
       "      <td>0.001831</td>\n",
       "      <td>-0.065147</td>\n",
       "      <td>-0.051147</td>\n",
       "      <td>-0.029510</td>\n",
       "      <td>-0.195724</td>\n",
       "      <td>-0.024277</td>\n",
       "      <td>-0.013000</td>\n",
       "    </tr>\n",
       "  </tbody>\n",
       "</table>\n",
       "<p>1992 rows × 300 columns</p>\n",
       "</div>"
      ],
      "text/plain": [
       "           0         1         2         3         4         5         6    \\\n",
       "0    -0.005691  0.049094  0.001404  0.089334 -0.067700 -0.001893 -0.002663   \n",
       "1    -0.038282 -0.048363 -0.016762  0.102661 -0.006042 -0.035692  0.067307   \n",
       "2     0.032948  0.045532 -0.010384  0.058909 -0.077659  0.067068  0.103117   \n",
       "3     0.008762  0.007128  0.039973  0.079590 -0.099370  0.010062  0.055500   \n",
       "4     0.172461  0.061719  0.160168  0.140625 -0.009998  0.002979  0.070239   \n",
       "...        ...       ...       ...       ...       ...       ...       ...   \n",
       "1995 -0.030589 -0.013684  0.094381  0.196791 -0.193759 -0.045397 -0.018161   \n",
       "1996  0.048108  0.020143 -0.010266  0.029490 -0.063149 -0.007761  0.027643   \n",
       "1997  0.046555 -0.002913 -0.008834  0.072227 -0.067897  0.059588  0.142088   \n",
       "1998 -0.046168 -0.050310  0.000846  0.005399 -0.077535  0.013575  0.068605   \n",
       "1999 -0.078979  0.065430 -0.030590  0.310791 -0.027771 -0.039429  0.090240   \n",
       "\n",
       "           7         8         9    ...       290       291       292  \\\n",
       "0    -0.123730  0.129883  0.027743  ...  0.049402  0.085904 -0.078004   \n",
       "1    -0.159180  0.031708  0.017532  ... -0.026367  0.098145 -0.028259   \n",
       "2    -0.037325  0.066214 -0.049445  ...  0.031507  0.047447 -0.067017   \n",
       "3    -0.077873  0.110748  0.025889  ... -0.039908  0.010489 -0.043777   \n",
       "4    -0.093164  0.104956  0.073151  ...  0.041016 -0.063782 -0.206836   \n",
       "...        ...       ...       ...  ...       ...       ...       ...   \n",
       "1995 -0.031148  0.104574  0.153120  ...  0.143500  0.102878 -0.033549   \n",
       "1996 -0.042986  0.091641  0.028681  ... -0.012826  0.027820 -0.048538   \n",
       "1997 -0.034311  0.129441  0.046461  ... -0.018479  0.019729 -0.036946   \n",
       "1998  0.011301  0.083583 -0.040436  ...  0.001826  0.040070  0.026591   \n",
       "1999 -0.114258 -0.064911  0.062714  ...  0.015259  0.207031 -0.100800   \n",
       "\n",
       "           293       294       295       296       297       298       299  \n",
       "0     0.007092 -0.011893 -0.069122  0.051978 -0.091455 -0.039178 -0.017926  \n",
       "1     0.031067  0.005219 -0.104248 -0.071442 -0.003654 -0.009644 -0.018147  \n",
       "2     0.013720 -0.084930 -0.086442  0.042069 -0.165579 -0.031374  0.017075  \n",
       "3     0.002191  0.023512 -0.075115 -0.004955 -0.133040 -0.048448 -0.011993  \n",
       "4    -0.013220  0.001782 -0.128491 -0.091309 -0.148682 -0.026367 -0.037659  \n",
       "...        ...       ...       ...       ...       ...       ...       ...  \n",
       "1995  0.014560  0.106539 -0.108364  0.003852 -0.067980  0.038628  0.030482  \n",
       "1996 -0.016179 -0.052150 -0.087704  0.005823 -0.073369 -0.002671 -0.002790  \n",
       "1997  0.042611 -0.031345 -0.031733  0.024476 -0.085574 -0.000027  0.024030  \n",
       "1998  0.017526 -0.070594  0.063235 -0.008446 -0.104127 -0.056775  0.028263  \n",
       "1999  0.001831 -0.065147 -0.051147 -0.029510 -0.195724 -0.024277 -0.013000  \n",
       "\n",
       "[1992 rows x 300 columns]"
      ]
     },
     "execution_count": 67,
     "metadata": {},
     "output_type": "execute_result"
    }
   ],
   "source": [
    "X"
   ]
  },
  {
   "cell_type": "code",
   "execution_count": 68,
   "id": "f38c1f81",
   "metadata": {},
   "outputs": [
    {
     "data": {
      "text/plain": [
       "0       0\n",
       "1       0\n",
       "2       0\n",
       "3       0\n",
       "4       0\n",
       "       ..\n",
       "1995    0\n",
       "1996    0\n",
       "1997    0\n",
       "1998    0\n",
       "1999    0\n",
       "Name: toxic, Length: 1992, dtype: int64"
      ]
     },
     "execution_count": 68,
     "metadata": {},
     "output_type": "execute_result"
    }
   ],
   "source": [
    "y"
   ]
  },
  {
   "cell_type": "code",
   "execution_count": 69,
   "id": "831023f8",
   "metadata": {},
   "outputs": [],
   "source": [
    "X_train, X_text, y_train, y_test = train_test_split(X, y, test_size=0.2, stratify=y)"
   ]
  },
  {
   "cell_type": "code",
   "execution_count": 70,
   "id": "8c920369",
   "metadata": {},
   "outputs": [],
   "source": [
    "model = LogisticRegression()"
   ]
  },
  {
   "cell_type": "code",
   "execution_count": 71,
   "id": "651425c0",
   "metadata": {},
   "outputs": [],
   "source": [
    "X_train = X_train.dropna()"
   ]
  },
  {
   "cell_type": "code",
   "execution_count": 72,
   "id": "104baad6",
   "metadata": {},
   "outputs": [
    {
     "data": {
      "text/plain": [
       "LogisticRegression()"
      ]
     },
     "execution_count": 72,
     "metadata": {},
     "output_type": "execute_result"
    }
   ],
   "source": [
    "model.fit(X_train, y_train)"
   ]
  },
  {
   "cell_type": "code",
   "execution_count": 73,
   "id": "bed2bc59",
   "metadata": {},
   "outputs": [],
   "source": [
    "y_pred = model.predict(X_text)"
   ]
  },
  {
   "cell_type": "code",
   "execution_count": 74,
   "id": "6178f3f3",
   "metadata": {},
   "outputs": [],
   "source": [
    "from sklearn.metrics import classification_report"
   ]
  },
  {
   "cell_type": "code",
   "execution_count": 76,
   "id": "969ca65f",
   "metadata": {},
   "outputs": [
    {
     "name": "stdout",
     "output_type": "stream",
     "text": [
      "              precision    recall  f1-score   support\n",
      "\n",
      "           0       0.95      0.98      0.97       359\n",
      "           1       0.79      0.55      0.65        40\n",
      "\n",
      "    accuracy                           0.94       399\n",
      "   macro avg       0.87      0.77      0.81       399\n",
      "weighted avg       0.93      0.94      0.94       399\n",
      "\n"
     ]
    }
   ],
   "source": [
    "print(classification_report(y_test, y_pred))"
   ]
  },
  {
   "cell_type": "code",
   "execution_count": null,
   "id": "4bd512b5",
   "metadata": {},
   "outputs": [],
   "source": []
  }
 ],
 "metadata": {
  "kernelspec": {
   "display_name": "Python 3 (ipykernel)",
   "language": "python",
   "name": "python3"
  },
  "language_info": {
   "codemirror_mode": {
    "name": "ipython",
    "version": 3
   },
   "file_extension": ".py",
   "mimetype": "text/x-python",
   "name": "python",
   "nbconvert_exporter": "python",
   "pygments_lexer": "ipython3",
   "version": "3.7.16"
  }
 },
 "nbformat": 4,
 "nbformat_minor": 5
}
